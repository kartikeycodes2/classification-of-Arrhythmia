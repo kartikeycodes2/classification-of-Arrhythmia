{
 "cells": [
  {
   "cell_type": "code",
   "execution_count": 1,
   "metadata": {
    "id": "vxGMudFEWtEg"
   },
   "outputs": [],
   "source": [
    "#import the nueral network libraries\n",
    "from tensorflow.keras.models import Sequential\n",
    "from tensorflow.keras.layers import Dense\n"
   ]
  },
  {
   "cell_type": "code",
   "execution_count": 2,
   "metadata": {
    "id": "Tfq6ZU6aa_cx"
   },
   "outputs": [],
   "source": [
    "#import the cnn layers\n",
    "from tensorflow.keras.layers import Convolution2D\n",
    "from tensorflow.keras.layers import MaxPooling2D\n",
    "from tensorflow.keras.layers import Flatten"
   ]
  },
  {
   "cell_type": "markdown",
   "metadata": {
    "id": "WoPunGgBfgt2"
   },
   "source": [
    "# image preprocessing (or) data Augmentation"
   ]
  },
  {
   "cell_type": "code",
   "execution_count": 3,
   "metadata": {
    "id": "IS8A9Idnd7od"
   },
   "outputs": [],
   "source": [
    "from tensorflow.keras.preprocessing.image import ImageDataGenerator\n"
   ]
  },
  {
   "cell_type": "code",
   "execution_count": 4,
   "metadata": {
    "id": "HDqx-UA2igFy"
   },
   "outputs": [],
   "source": [
    "train_datagen=ImageDataGenerator(rescale=1./255,shear_range=0.2,zoom_range=0.2,horizontal_flip=True)"
   ]
  },
  {
   "cell_type": "code",
   "execution_count": 5,
   "metadata": {
    "id": "g6iwOIYwjc0T"
   },
   "outputs": [],
   "source": [
    "test_datagen=ImageDataGenerator(rescale=1./255)"
   ]
  },
  {
   "cell_type": "code",
   "execution_count": 6,
   "metadata": {
    "colab": {
     "base_uri": "https://localhost:8080/"
    },
    "executionInfo": {
     "elapsed": 777,
     "status": "ok",
     "timestamp": 1690716752719,
     "user": {
      "displayName": "597 Dileep",
      "userId": "02511124501010041631"
     },
     "user_tz": -330
    },
    "id": "UnLhcEdSjrOh",
    "outputId": "a93bcbd7-ab5a-4606-b3aa-af51bdc90161"
   },
   "outputs": [
    {
     "name": "stdout",
     "output_type": "stream",
     "text": [
      "Found 15341 images belonging to 6 classes.\n"
     ]
    }
   ],
   "source": [
    "x_train =train_datagen.flow_from_directory(\"./Dataset/train\",target_size=(64,64),batch_size=32,class_mode=\"categorical\")\n"
   ]
  },
  {
   "cell_type": "code",
   "execution_count": 7,
   "metadata": {
    "colab": {
     "base_uri": "https://localhost:8080/"
    },
    "executionInfo": {
     "elapsed": 510,
     "status": "ok",
     "timestamp": 1690719806469,
     "user": {
      "displayName": "597 Dileep",
      "userId": "02511124501010041631"
     },
     "user_tz": -330
    },
    "id": "mMGBORQ3utXi",
    "outputId": "691a749c-d00f-40c5-8327-c3962c1e1222"
   },
   "outputs": [
    {
     "name": "stdout",
     "output_type": "stream",
     "text": [
      "Found 6825 images belonging to 6 classes.\n"
     ]
    }
   ],
   "source": [
    "x_test = test_datagen.flow_from_directory(\"./Dataset/test\",target_size=(64,64),batch_size=32,class_mode=\"categorical\")"
   ]
  },
  {
   "cell_type": "code",
   "execution_count": 8,
   "metadata": {
    "colab": {
     "base_uri": "https://localhost:8080/"
    },
    "executionInfo": {
     "elapsed": 3,
     "status": "ok",
     "timestamp": 1690716783624,
     "user": {
      "displayName": "597 Dileep",
      "userId": "02511124501010041631"
     },
     "user_tz": -330
    },
    "id": "1rkFHifxkaMQ",
    "outputId": "3e57785b-ca85-4539-afbf-39d6844d5870"
   },
   "outputs": [
    {
     "data": {
      "text/plain": [
       "{'Left Bundle Branch Block': 0,\n",
       " 'Normal': 1,\n",
       " 'Premature Atrial Contraction': 2,\n",
       " 'Premature Ventricular Contractions': 3,\n",
       " 'Right Bundle Branch Block': 4,\n",
       " 'Ventricular Fibrillation': 5}"
      ]
     },
     "execution_count": 8,
     "metadata": {},
     "output_type": "execute_result"
    }
   ],
   "source": [
    "x_train.class_indices"
   ]
  },
  {
   "cell_type": "code",
   "execution_count": 9,
   "metadata": {
    "id": "k8f2lKudksA1"
   },
   "outputs": [
    {
     "name": "stdout",
     "output_type": "stream",
     "text": [
      "Metal device set to: Apple M1 Pro\n",
      "\n",
      "systemMemory: 16.00 GB\n",
      "maxCacheSize: 5.33 GB\n",
      "\n"
     ]
    }
   ],
   "source": [
    "#initialize the model\n",
    "model=Sequential()"
   ]
  },
  {
   "cell_type": "code",
   "execution_count": 10,
   "metadata": {
    "id": "f8FhtNQik0-c"
   },
   "outputs": [],
   "source": [
    "#convolutional model\n",
    "model.add(Convolution2D(32,(3,3),input_shape=(64,64,3),activation=\"relu\"))"
   ]
  },
  {
   "cell_type": "code",
   "execution_count": 11,
   "metadata": {
    "id": "CMLH2JySlbWU"
   },
   "outputs": [],
   "source": [
    "#pooling layer\n",
    "model.add(MaxPooling2D(pool_size=(2,2)))"
   ]
  },
  {
   "cell_type": "code",
   "execution_count": 12,
   "metadata": {},
   "outputs": [],
   "source": [
    "model.add(Convolution2D(16,(3,3),activation=\"relu\"))\n",
    "model.add(MaxPooling2D(pool_size=(2,2)))"
   ]
  },
  {
   "cell_type": "code",
   "execution_count": 13,
   "metadata": {
    "id": "sLr8KkPZmOFE"
   },
   "outputs": [],
   "source": [
    "#flatten layer\n",
    "model.add(Flatten())"
   ]
  },
  {
   "cell_type": "code",
   "execution_count": 14,
   "metadata": {
    "id": "Y3uPzKkimV2L"
   },
   "outputs": [],
   "source": [
    "model.add(Dense(units=300,activation=\"relu\",kernel_initializer=\"random_uniform\"))"
   ]
  },
  {
   "cell_type": "code",
   "execution_count": 15,
   "metadata": {
    "id": "2DUdjv9pmq61"
   },
   "outputs": [],
   "source": [
    "model.add(Dense(units=200,activation=\"relu\",kernel_initializer=\"random_uniform\"))"
   ]
  },
  {
   "cell_type": "markdown",
   "metadata": {
    "id": "FxvCgTKKmyKd"
   },
   "source": [
    "# output layer\n"
   ]
  },
  {
   "cell_type": "code",
   "execution_count": 16,
   "metadata": {
    "id": "SOFB6mohmvrC"
   },
   "outputs": [],
   "source": [
    "model.add(Dense(units=6,activation=\"softmax\",kernel_initializer=\"random_uniform\"))"
   ]
  },
  {
   "cell_type": "markdown",
   "metadata": {
    "id": "mnomqk5-nNBM"
   },
   "source": [
    "# compile model"
   ]
  },
  {
   "cell_type": "code",
   "execution_count": 17,
   "metadata": {
    "id": "_H6pfD42nKU0"
   },
   "outputs": [],
   "source": [
    "model.compile(optimizer=\"adam\",loss=\"categorical_crossentropy\",metrics=[\"accuracy\"])"
   ]
  },
  {
   "cell_type": "markdown",
   "metadata": {
    "id": "fMEEPDOhsjHc"
   },
   "source": [
    "# train your  model"
   ]
  },
  {
   "cell_type": "code",
   "execution_count": 18,
   "metadata": {
    "colab": {
     "base_uri": "https://localhost:8080/"
    },
    "executionInfo": {
     "elapsed": 1833644,
     "status": "ok",
     "timestamp": 1690724281220,
     "user": {
      "displayName": "597 Dileep",
      "userId": "02511124501010041631"
     },
     "user_tz": -330
    },
    "id": "ykw_NqGRry3B",
    "outputId": "61ea98a6-5730-4257-fbd3-88f30cfd399e"
   },
   "outputs": [
    {
     "name": "stdout",
     "output_type": "stream",
     "text": [
      "Epoch 1/25\n"
     ]
    },
    {
     "name": "stderr",
     "output_type": "stream",
     "text": [
      "/var/folders/m3/ltc04s6x59x86d1lvb7rdll00000gn/T/ipykernel_5181/1370298909.py:1: UserWarning: `Model.fit_generator` is deprecated and will be removed in a future version. Please use `Model.fit`, which supports generators.\n",
      "  tr=model.fit_generator(x_train,steps_per_epoch=480,epochs=25,validation_data=x_test,validation_steps=10)\n",
      "2023-11-26 19:44:15.171957: W tensorflow/tsl/platform/profile_utils/cpu_utils.cc:128] Failed to get CPU frequency: 0 Hz\n"
     ]
    },
    {
     "name": "stdout",
     "output_type": "stream",
     "text": [
      "480/480 [==============================] - 17s 31ms/step - loss: 1.2698 - accuracy: 0.5406 - val_loss: 1.3764 - val_accuracy: 0.5156\n",
      "Epoch 2/25\n",
      "480/480 [==============================] - 14s 28ms/step - loss: 0.5748 - accuracy: 0.8066 - val_loss: 0.8510 - val_accuracy: 0.7500\n",
      "Epoch 3/25\n",
      "480/480 [==============================] - 14s 28ms/step - loss: 0.3009 - accuracy: 0.9054 - val_loss: 0.6209 - val_accuracy: 0.8375\n",
      "Epoch 4/25\n",
      "480/480 [==============================] - 13s 27ms/step - loss: 0.1990 - accuracy: 0.9383 - val_loss: 0.6069 - val_accuracy: 0.8438\n",
      "Epoch 5/25\n",
      "480/480 [==============================] - 12s 24ms/step - loss: 0.1645 - accuracy: 0.9510 - val_loss: 0.5581 - val_accuracy: 0.8438\n",
      "Epoch 6/25\n",
      "480/480 [==============================] - 13s 26ms/step - loss: 0.1410 - accuracy: 0.9555 - val_loss: 0.4063 - val_accuracy: 0.8938\n",
      "Epoch 7/25\n",
      "480/480 [==============================] - 11s 23ms/step - loss: 0.1220 - accuracy: 0.9619 - val_loss: 0.3913 - val_accuracy: 0.8625\n",
      "Epoch 8/25\n",
      "480/480 [==============================] - 11s 23ms/step - loss: 0.1084 - accuracy: 0.9670 - val_loss: 0.5667 - val_accuracy: 0.8531\n",
      "Epoch 9/25\n",
      "480/480 [==============================] - 11s 23ms/step - loss: 0.0950 - accuracy: 0.9699 - val_loss: 0.7003 - val_accuracy: 0.8594\n",
      "Epoch 10/25\n",
      "480/480 [==============================] - 11s 23ms/step - loss: 0.0882 - accuracy: 0.9726 - val_loss: 0.5822 - val_accuracy: 0.8562\n",
      "Epoch 11/25\n",
      "480/480 [==============================] - 11s 23ms/step - loss: 0.0766 - accuracy: 0.9747 - val_loss: 0.4489 - val_accuracy: 0.8781\n",
      "Epoch 12/25\n",
      "480/480 [==============================] - 12s 26ms/step - loss: 0.0702 - accuracy: 0.9760 - val_loss: 0.6569 - val_accuracy: 0.8656\n",
      "Epoch 13/25\n",
      "480/480 [==============================] - 11s 23ms/step - loss: 0.0647 - accuracy: 0.9775 - val_loss: 0.7569 - val_accuracy: 0.8562\n",
      "Epoch 14/25\n",
      "480/480 [==============================] - 11s 23ms/step - loss: 0.0611 - accuracy: 0.9805 - val_loss: 0.5796 - val_accuracy: 0.8906\n",
      "Epoch 15/25\n",
      "480/480 [==============================] - 11s 23ms/step - loss: 0.0555 - accuracy: 0.9814 - val_loss: 0.6603 - val_accuracy: 0.8687\n",
      "Epoch 16/25\n",
      "480/480 [==============================] - 11s 23ms/step - loss: 0.0526 - accuracy: 0.9817 - val_loss: 0.8059 - val_accuracy: 0.8813\n",
      "Epoch 17/25\n",
      "480/480 [==============================] - 11s 23ms/step - loss: 0.0470 - accuracy: 0.9836 - val_loss: 0.8264 - val_accuracy: 0.8625\n",
      "Epoch 18/25\n",
      "480/480 [==============================] - 11s 23ms/step - loss: 0.0448 - accuracy: 0.9847 - val_loss: 0.7363 - val_accuracy: 0.8906\n",
      "Epoch 19/25\n",
      "480/480 [==============================] - 11s 23ms/step - loss: 0.0400 - accuracy: 0.9870 - val_loss: 0.9193 - val_accuracy: 0.8313\n",
      "Epoch 20/25\n",
      "480/480 [==============================] - 12s 25ms/step - loss: 0.0383 - accuracy: 0.9875 - val_loss: 0.8802 - val_accuracy: 0.8656\n",
      "Epoch 21/25\n",
      "480/480 [==============================] - 12s 24ms/step - loss: 0.0414 - accuracy: 0.9866 - val_loss: 0.6741 - val_accuracy: 0.8531\n",
      "Epoch 22/25\n",
      "480/480 [==============================] - 11s 23ms/step - loss: 0.0355 - accuracy: 0.9875 - val_loss: 0.7132 - val_accuracy: 0.8781\n",
      "Epoch 23/25\n",
      "480/480 [==============================] - 11s 23ms/step - loss: 0.0356 - accuracy: 0.9873 - val_loss: 0.5964 - val_accuracy: 0.8781\n",
      "Epoch 24/25\n",
      "480/480 [==============================] - 11s 23ms/step - loss: 0.0348 - accuracy: 0.9882 - val_loss: 0.5577 - val_accuracy: 0.8969\n",
      "Epoch 25/25\n",
      "480/480 [==============================] - 11s 23ms/step - loss: 0.0306 - accuracy: 0.9887 - val_loss: 0.5322 - val_accuracy: 0.8938\n"
     ]
    }
   ],
   "source": [
    "tr=model.fit_generator(x_train,steps_per_epoch=480,epochs=25,validation_data=x_test,validation_steps=10)\n",
    "#steps_per_epoch =>total trainging images/batch size\n",
    "#validation_steps=>total testing images/batch size"
   ]
  },
  {
   "cell_type": "code",
   "execution_count": 19,
   "metadata": {
    "colab": {
     "base_uri": "https://localhost:8080/"
    },
    "executionInfo": {
     "elapsed": 620,
     "status": "ok",
     "timestamp": 1690724384638,
     "user": {
      "displayName": "597 Dileep",
      "userId": "02511124501010041631"
     },
     "user_tz": -330
    },
    "id": "4ja0U3ERxvFY",
    "outputId": "05b5e401-7697-498a-a3f3-69192781aaf0"
   },
   "outputs": [
    {
     "data": {
      "text/plain": [
       "{'loss': [1.2698230743408203,\n",
       "  0.5747998356819153,\n",
       "  0.30088064074516296,\n",
       "  0.1989784985780716,\n",
       "  0.16448214650154114,\n",
       "  0.1409921944141388,\n",
       "  0.12201691418886185,\n",
       "  0.10835602879524231,\n",
       "  0.09503420442342758,\n",
       "  0.08824721723794937,\n",
       "  0.07656637579202652,\n",
       "  0.07021509110927582,\n",
       "  0.06466928869485855,\n",
       "  0.06107514724135399,\n",
       "  0.055514074862003326,\n",
       "  0.052552636712789536,\n",
       "  0.04703949764370918,\n",
       "  0.044835954904556274,\n",
       "  0.04003624618053436,\n",
       "  0.038279157131910324,\n",
       "  0.0413832925260067,\n",
       "  0.03549370914697647,\n",
       "  0.03556213155388832,\n",
       "  0.034806206822395325,\n",
       "  0.030550874769687653],\n",
       " 'accuracy': [0.5405775308609009,\n",
       "  0.8065966963768005,\n",
       "  0.9054168462753296,\n",
       "  0.9382699728012085,\n",
       "  0.9510462284088135,\n",
       "  0.9555439949035645,\n",
       "  0.9619320631027222,\n",
       "  0.9670165181159973,\n",
       "  0.9698846340179443,\n",
       "  0.9725571870803833,\n",
       "  0.9747083187103271,\n",
       "  0.9760119915008545,\n",
       "  0.9775112271308899,\n",
       "  0.9805097579956055,\n",
       "  0.9813571572303772,\n",
       "  0.9817482829093933,\n",
       "  0.9835734367370605,\n",
       "  0.9847467541694641,\n",
       "  0.9869630336761475,\n",
       "  0.9874845147132874,\n",
       "  0.9866371154785156,\n",
       "  0.9874845147132874,\n",
       "  0.9872889518737793,\n",
       "  0.9882015585899353,\n",
       "  0.9886578321456909],\n",
       " 'val_loss': [1.3763625621795654,\n",
       "  0.8510124087333679,\n",
       "  0.6209000945091248,\n",
       "  0.6069014668464661,\n",
       "  0.5580552816390991,\n",
       "  0.4063132405281067,\n",
       "  0.3913457691669464,\n",
       "  0.5666669607162476,\n",
       "  0.7002919316291809,\n",
       "  0.5821719169616699,\n",
       "  0.4489341676235199,\n",
       "  0.6569104194641113,\n",
       "  0.7568886280059814,\n",
       "  0.5796253085136414,\n",
       "  0.660340428352356,\n",
       "  0.8059415817260742,\n",
       "  0.8264392018318176,\n",
       "  0.7362991571426392,\n",
       "  0.9193428158760071,\n",
       "  0.8801809549331665,\n",
       "  0.6740802526473999,\n",
       "  0.7131634950637817,\n",
       "  0.5964266657829285,\n",
       "  0.5577255487442017,\n",
       "  0.532162070274353],\n",
       " 'val_accuracy': [0.515625,\n",
       "  0.75,\n",
       "  0.8374999761581421,\n",
       "  0.84375,\n",
       "  0.84375,\n",
       "  0.893750011920929,\n",
       "  0.862500011920929,\n",
       "  0.8531249761581421,\n",
       "  0.859375,\n",
       "  0.856249988079071,\n",
       "  0.878125011920929,\n",
       "  0.8656250238418579,\n",
       "  0.856249988079071,\n",
       "  0.890625,\n",
       "  0.8687499761581421,\n",
       "  0.8812500238418579,\n",
       "  0.862500011920929,\n",
       "  0.890625,\n",
       "  0.831250011920929,\n",
       "  0.8656250238418579,\n",
       "  0.8531249761581421,\n",
       "  0.878125011920929,\n",
       "  0.878125011920929,\n",
       "  0.8968750238418579,\n",
       "  0.893750011920929]}"
      ]
     },
     "execution_count": 19,
     "metadata": {},
     "output_type": "execute_result"
    }
   ],
   "source": [
    "tr.history"
   ]
  },
  {
   "cell_type": "markdown",
   "metadata": {
    "id": "gcu6XU_qxav1"
   },
   "source": [
    "# To save the best accuracy got in the epoch we willn use this callback and checkpoint"
   ]
  },
  {
   "cell_type": "code",
   "execution_count": 20,
   "metadata": {
    "id": "_J8COiRZBuo8"
   },
   "outputs": [
    {
     "name": "stdout",
     "output_type": "stream",
     "text": [
      "WARNING:tensorflow:ModelCheckpoint mode Max is unknown, fallback to auto mode.\n",
      "  4/480 [..............................] - ETA: 10s - loss: 0.0247 - accuracy: 0.9922"
     ]
    },
    {
     "name": "stderr",
     "output_type": "stream",
     "text": [
      "/var/folders/m3/ltc04s6x59x86d1lvb7rdll00000gn/T/ipykernel_5181/1474106966.py:3: UserWarning: `Model.fit_generator` is deprecated and will be removed in a future version. Please use `Model.fit`, which supports generators.\n",
      "  tr = model.fit_generator(x_train,steps_per_epoch=480,callbacks=[checkpoint],validation_steps=10)\n"
     ]
    },
    {
     "name": "stdout",
     "output_type": "stream",
     "text": [
      "478/480 [============================>.] - ETA: 0s - loss: 0.0273 - accuracy: 0.9904WARNING:tensorflow:Can save best model only with val_accuracy available, skipping.\n",
      "480/480 [==============================] - 11s 22ms/step - loss: 0.0273 - accuracy: 0.9904\n"
     ]
    }
   ],
   "source": [
    "from tensorflow.keras.callbacks import ModelCheckpoint\n",
    "checkpoint = ModelCheckpoint(\"best_model_{epoch:02d}.h5\",monitor=\"val_accuracy\",save_best_only=True,mode=\"Max\")\n",
    "tr = model.fit_generator(x_train,steps_per_epoch=480,callbacks=[checkpoint],validation_steps=10)"
   ]
  },
  {
   "cell_type": "markdown",
   "metadata": {
    "id": "ezs_KTPmoc85"
   },
   "source": [
    "# Saving the model"
   ]
  },
  {
   "cell_type": "code",
   "execution_count": 21,
   "metadata": {
    "colab": {
     "base_uri": "https://localhost:8080/"
    },
    "executionInfo": {
     "elapsed": 688,
     "status": "ok",
     "timestamp": 1690725871270,
     "user": {
      "displayName": "597 Dileep",
      "userId": "02511124501010041631"
     },
     "user_tz": -330
    },
    "id": "okLOLF3RCplu",
    "outputId": "6cc5868b-078a-4d3f-f9f0-3a561468b67d"
   },
   "outputs": [],
   "source": [
    "#for storing temporary\n",
    "model.save('ECG.h5')"
   ]
  },
  {
   "cell_type": "code",
   "execution_count": 29,
   "metadata": {
    "id": "Fk0RzgBtKdNj"
   },
   "outputs": [],
   "source": [
    "losses=tr.history['loss']\n",
    "accuracy=tr.history['accuracy']\n",
    "epochs=list(range(1,26))"
   ]
  },
  {
   "cell_type": "code",
   "execution_count": 28,
   "metadata": {
    "colab": {
     "base_uri": "https://localhost:8080/",
     "height": 449
    },
    "executionInfo": {
     "elapsed": 739,
     "status": "ok",
     "timestamp": 1690726817612,
     "user": {
      "displayName": "597 Dileep",
      "userId": "02511124501010041631"
     },
     "user_tz": -330
    },
    "id": "TCjB758ZKu4W",
    "outputId": "759f8364-dae4-4f6e-b4d8-cae381717a47"
   },
   "outputs": [
    {
     "ename": "ValueError",
     "evalue": "x and y must have same first dimension, but have shapes (25,) and (1,)",
     "output_type": "error",
     "traceback": [
      "\u001b[0;31m---------------------------------------------------------------------------\u001b[0m",
      "\u001b[0;31mValueError\u001b[0m                                Traceback (most recent call last)",
      "\u001b[1;32m/Users/rohanjai/Developer/Classification-of-Arrhythmia-by-Using-Deep-Learning-with-2-D-ECG-Spectral-Image-Representation/Flask/ECG arrhythmia classification.ipynb Cell 31\u001b[0m line \u001b[0;36m2\n\u001b[1;32m      <a href='vscode-notebook-cell:/Users/rohanjai/Developer/Classification-of-Arrhythmia-by-Using-Deep-Learning-with-2-D-ECG-Spectral-Image-Representation/Flask/ECG%20arrhythmia%20classification.ipynb#X42sZmlsZQ%3D%3D?line=0'>1</a>\u001b[0m \u001b[39mimport\u001b[39;00m \u001b[39mmatplotlib\u001b[39;00m\u001b[39m.\u001b[39;00m\u001b[39mpyplot\u001b[39;00m \u001b[39mas\u001b[39;00m \u001b[39mplt\u001b[39;00m\n\u001b[0;32m----> <a href='vscode-notebook-cell:/Users/rohanjai/Developer/Classification-of-Arrhythmia-by-Using-Deep-Learning-with-2-D-ECG-Spectral-Image-Representation/Flask/ECG%20arrhythmia%20classification.ipynb#X42sZmlsZQ%3D%3D?line=1'>2</a>\u001b[0m plt\u001b[39m.\u001b[39;49mplot(epochs,losses)\n\u001b[1;32m      <a href='vscode-notebook-cell:/Users/rohanjai/Developer/Classification-of-Arrhythmia-by-Using-Deep-Learning-with-2-D-ECG-Spectral-Image-Representation/Flask/ECG%20arrhythmia%20classification.ipynb#X42sZmlsZQ%3D%3D?line=2'>3</a>\u001b[0m plt\u001b[39m.\u001b[39mxlabel(\u001b[39m\"\u001b[39m\u001b[39mepochs\u001b[39m\u001b[39m\"\u001b[39m)\n\u001b[1;32m      <a href='vscode-notebook-cell:/Users/rohanjai/Developer/Classification-of-Arrhythmia-by-Using-Deep-Learning-with-2-D-ECG-Spectral-Image-Representation/Flask/ECG%20arrhythmia%20classification.ipynb#X42sZmlsZQ%3D%3D?line=3'>4</a>\u001b[0m plt\u001b[39m.\u001b[39mylabel(\u001b[39m\"\u001b[39m\u001b[39mloss\u001b[39m\u001b[39m\"\u001b[39m)\n",
      "File \u001b[0;32m~/miniconda3/lib/python3.10/site-packages/matplotlib/pyplot.py:2812\u001b[0m, in \u001b[0;36mplot\u001b[0;34m(scalex, scaley, data, *args, **kwargs)\u001b[0m\n\u001b[1;32m   2810\u001b[0m \u001b[39m@_copy_docstring_and_deprecators\u001b[39m(Axes\u001b[39m.\u001b[39mplot)\n\u001b[1;32m   2811\u001b[0m \u001b[39mdef\u001b[39;00m \u001b[39mplot\u001b[39m(\u001b[39m*\u001b[39margs, scalex\u001b[39m=\u001b[39m\u001b[39mTrue\u001b[39;00m, scaley\u001b[39m=\u001b[39m\u001b[39mTrue\u001b[39;00m, data\u001b[39m=\u001b[39m\u001b[39mNone\u001b[39;00m, \u001b[39m*\u001b[39m\u001b[39m*\u001b[39mkwargs):\n\u001b[0;32m-> 2812\u001b[0m     \u001b[39mreturn\u001b[39;00m gca()\u001b[39m.\u001b[39;49mplot(\n\u001b[1;32m   2813\u001b[0m         \u001b[39m*\u001b[39;49margs, scalex\u001b[39m=\u001b[39;49mscalex, scaley\u001b[39m=\u001b[39;49mscaley,\n\u001b[1;32m   2814\u001b[0m         \u001b[39m*\u001b[39;49m\u001b[39m*\u001b[39;49m({\u001b[39m\"\u001b[39;49m\u001b[39mdata\u001b[39;49m\u001b[39m\"\u001b[39;49m: data} \u001b[39mif\u001b[39;49;00m data \u001b[39mis\u001b[39;49;00m \u001b[39mnot\u001b[39;49;00m \u001b[39mNone\u001b[39;49;00m \u001b[39melse\u001b[39;49;00m {}), \u001b[39m*\u001b[39;49m\u001b[39m*\u001b[39;49mkwargs)\n",
      "File \u001b[0;32m~/miniconda3/lib/python3.10/site-packages/matplotlib/axes/_axes.py:1688\u001b[0m, in \u001b[0;36mAxes.plot\u001b[0;34m(self, scalex, scaley, data, *args, **kwargs)\u001b[0m\n\u001b[1;32m   1445\u001b[0m \u001b[39m\u001b[39m\u001b[39m\"\"\"\u001b[39;00m\n\u001b[1;32m   1446\u001b[0m \u001b[39mPlot y versus x as lines and/or markers.\u001b[39;00m\n\u001b[1;32m   1447\u001b[0m \n\u001b[0;32m   (...)\u001b[0m\n\u001b[1;32m   1685\u001b[0m \u001b[39m(``'green'``) or hex strings (``'#008000'``).\u001b[39;00m\n\u001b[1;32m   1686\u001b[0m \u001b[39m\"\"\"\u001b[39;00m\n\u001b[1;32m   1687\u001b[0m kwargs \u001b[39m=\u001b[39m cbook\u001b[39m.\u001b[39mnormalize_kwargs(kwargs, mlines\u001b[39m.\u001b[39mLine2D)\n\u001b[0;32m-> 1688\u001b[0m lines \u001b[39m=\u001b[39m [\u001b[39m*\u001b[39m\u001b[39mself\u001b[39m\u001b[39m.\u001b[39m_get_lines(\u001b[39m*\u001b[39margs, data\u001b[39m=\u001b[39mdata, \u001b[39m*\u001b[39m\u001b[39m*\u001b[39mkwargs)]\n\u001b[1;32m   1689\u001b[0m \u001b[39mfor\u001b[39;00m line \u001b[39min\u001b[39;00m lines:\n\u001b[1;32m   1690\u001b[0m     \u001b[39mself\u001b[39m\u001b[39m.\u001b[39madd_line(line)\n",
      "File \u001b[0;32m~/miniconda3/lib/python3.10/site-packages/matplotlib/axes/_base.py:311\u001b[0m, in \u001b[0;36m_process_plot_var_args.__call__\u001b[0;34m(self, data, *args, **kwargs)\u001b[0m\n\u001b[1;32m    309\u001b[0m     this \u001b[39m+\u001b[39m\u001b[39m=\u001b[39m args[\u001b[39m0\u001b[39m],\n\u001b[1;32m    310\u001b[0m     args \u001b[39m=\u001b[39m args[\u001b[39m1\u001b[39m:]\n\u001b[0;32m--> 311\u001b[0m \u001b[39myield from\u001b[39;00m \u001b[39mself\u001b[39;49m\u001b[39m.\u001b[39;49m_plot_args(\n\u001b[1;32m    312\u001b[0m     this, kwargs, ambiguous_fmt_datakey\u001b[39m=\u001b[39;49mambiguous_fmt_datakey)\n",
      "File \u001b[0;32m~/miniconda3/lib/python3.10/site-packages/matplotlib/axes/_base.py:504\u001b[0m, in \u001b[0;36m_process_plot_var_args._plot_args\u001b[0;34m(self, tup, kwargs, return_kwargs, ambiguous_fmt_datakey)\u001b[0m\n\u001b[1;32m    501\u001b[0m     \u001b[39mself\u001b[39m\u001b[39m.\u001b[39maxes\u001b[39m.\u001b[39myaxis\u001b[39m.\u001b[39mupdate_units(y)\n\u001b[1;32m    503\u001b[0m \u001b[39mif\u001b[39;00m x\u001b[39m.\u001b[39mshape[\u001b[39m0\u001b[39m] \u001b[39m!=\u001b[39m y\u001b[39m.\u001b[39mshape[\u001b[39m0\u001b[39m]:\n\u001b[0;32m--> 504\u001b[0m     \u001b[39mraise\u001b[39;00m \u001b[39mValueError\u001b[39;00m(\u001b[39mf\u001b[39m\u001b[39m\"\u001b[39m\u001b[39mx and y must have same first dimension, but \u001b[39m\u001b[39m\"\u001b[39m\n\u001b[1;32m    505\u001b[0m                      \u001b[39mf\u001b[39m\u001b[39m\"\u001b[39m\u001b[39mhave shapes \u001b[39m\u001b[39m{\u001b[39;00mx\u001b[39m.\u001b[39mshape\u001b[39m}\u001b[39;00m\u001b[39m and \u001b[39m\u001b[39m{\u001b[39;00my\u001b[39m.\u001b[39mshape\u001b[39m}\u001b[39;00m\u001b[39m\"\u001b[39m)\n\u001b[1;32m    506\u001b[0m \u001b[39mif\u001b[39;00m x\u001b[39m.\u001b[39mndim \u001b[39m>\u001b[39m \u001b[39m2\u001b[39m \u001b[39mor\u001b[39;00m y\u001b[39m.\u001b[39mndim \u001b[39m>\u001b[39m \u001b[39m2\u001b[39m:\n\u001b[1;32m    507\u001b[0m     \u001b[39mraise\u001b[39;00m \u001b[39mValueError\u001b[39;00m(\u001b[39mf\u001b[39m\u001b[39m\"\u001b[39m\u001b[39mx and y can be no greater than 2D, but have \u001b[39m\u001b[39m\"\u001b[39m\n\u001b[1;32m    508\u001b[0m                      \u001b[39mf\u001b[39m\u001b[39m\"\u001b[39m\u001b[39mshapes \u001b[39m\u001b[39m{\u001b[39;00mx\u001b[39m.\u001b[39mshape\u001b[39m}\u001b[39;00m\u001b[39m and \u001b[39m\u001b[39m{\u001b[39;00my\u001b[39m.\u001b[39mshape\u001b[39m}\u001b[39;00m\u001b[39m\"\u001b[39m)\n",
      "\u001b[0;31mValueError\u001b[0m: x and y must have same first dimension, but have shapes (25,) and (1,)"
     ]
    },
    {
     "data": {
      "image/png": "[encoded data removed]",
      "text/plain": [
       "<Figure size 640x480 with 1 Axes>"
      ]
     },
     "metadata": {},
     "output_type": "display_data"
    }
   ],
   "source": [
    "import matplotlib.pyplot as plt\n",
    "plt.plot(epochs,losses)\n",
    "plt.xlabel(\"epochs\")\n",
    "plt.ylabel(\"loss\")\n",
    "plt.show()"
   ]
  },
  {
   "cell_type": "code",
   "execution_count": 24,
   "metadata": {
    "colab": {
     "base_uri": "https://localhost:8080/",
     "height": 449
    },
    "executionInfo": {
     "elapsed": 593,
     "status": "ok",
     "timestamp": 1690726851811,
     "user": {
      "displayName": "597 Dileep",
      "userId": "02511124501010041631"
     },
     "user_tz": -330
    },
    "id": "q0S29BBQK9ln",
    "outputId": "b7fb6f71-056c-4189-f461-c299149d8133"
   },
   "outputs": [
    {
     "ename": "ValueError",
     "evalue": "x and y must have same first dimension, but have shapes (25,) and (1,)",
     "output_type": "error",
     "traceback": [
      "\u001b[0;31m---------------------------------------------------------------------------\u001b[0m",
      "\u001b[0;31mValueError\u001b[0m                                Traceback (most recent call last)",
      "\u001b[1;32m/Users/rohanjai/Developer/Classification-of-Arrhythmia-by-Using-Deep-Learning-with-2-D-ECG-Spectral-Image-Representation/Flask/ECG arrhythmia classification.ipynb Cell 32\u001b[0m line \u001b[0;36m1\n\u001b[0;32m----> <a href='vscode-notebook-cell:/Users/rohanjai/Developer/Classification-of-Arrhythmia-by-Using-Deep-Learning-with-2-D-ECG-Spectral-Image-Representation/Flask/ECG%20arrhythmia%20classification.ipynb#X43sZmlsZQ%3D%3D?line=0'>1</a>\u001b[0m plt\u001b[39m.\u001b[39;49mplot(epochs,accuracy)\n\u001b[1;32m      <a href='vscode-notebook-cell:/Users/rohanjai/Developer/Classification-of-Arrhythmia-by-Using-Deep-Learning-with-2-D-ECG-Spectral-Image-Representation/Flask/ECG%20arrhythmia%20classification.ipynb#X43sZmlsZQ%3D%3D?line=1'>2</a>\u001b[0m plt\u001b[39m.\u001b[39mxlabel(\u001b[39m\"\u001b[39m\u001b[39mepochs\u001b[39m\u001b[39m\"\u001b[39m)\n\u001b[1;32m      <a href='vscode-notebook-cell:/Users/rohanjai/Developer/Classification-of-Arrhythmia-by-Using-Deep-Learning-with-2-D-ECG-Spectral-Image-Representation/Flask/ECG%20arrhythmia%20classification.ipynb#X43sZmlsZQ%3D%3D?line=2'>3</a>\u001b[0m plt\u001b[39m.\u001b[39mylabel(\u001b[39m\"\u001b[39m\u001b[39maccuracy\u001b[39m\u001b[39m\"\u001b[39m)\n",
      "File \u001b[0;32m~/miniconda3/lib/python3.10/site-packages/matplotlib/pyplot.py:2812\u001b[0m, in \u001b[0;36mplot\u001b[0;34m(scalex, scaley, data, *args, **kwargs)\u001b[0m\n\u001b[1;32m   2810\u001b[0m \u001b[39m@_copy_docstring_and_deprecators\u001b[39m(Axes\u001b[39m.\u001b[39mplot)\n\u001b[1;32m   2811\u001b[0m \u001b[39mdef\u001b[39;00m \u001b[39mplot\u001b[39m(\u001b[39m*\u001b[39margs, scalex\u001b[39m=\u001b[39m\u001b[39mTrue\u001b[39;00m, scaley\u001b[39m=\u001b[39m\u001b[39mTrue\u001b[39;00m, data\u001b[39m=\u001b[39m\u001b[39mNone\u001b[39;00m, \u001b[39m*\u001b[39m\u001b[39m*\u001b[39mkwargs):\n\u001b[0;32m-> 2812\u001b[0m     \u001b[39mreturn\u001b[39;00m gca()\u001b[39m.\u001b[39;49mplot(\n\u001b[1;32m   2813\u001b[0m         \u001b[39m*\u001b[39;49margs, scalex\u001b[39m=\u001b[39;49mscalex, scaley\u001b[39m=\u001b[39;49mscaley,\n\u001b[1;32m   2814\u001b[0m         \u001b[39m*\u001b[39;49m\u001b[39m*\u001b[39;49m({\u001b[39m\"\u001b[39;49m\u001b[39mdata\u001b[39;49m\u001b[39m\"\u001b[39;49m: data} \u001b[39mif\u001b[39;49;00m data \u001b[39mis\u001b[39;49;00m \u001b[39mnot\u001b[39;49;00m \u001b[39mNone\u001b[39;49;00m \u001b[39melse\u001b[39;49;00m {}), \u001b[39m*\u001b[39;49m\u001b[39m*\u001b[39;49mkwargs)\n",
      "File \u001b[0;32m~/miniconda3/lib/python3.10/site-packages/matplotlib/axes/_axes.py:1688\u001b[0m, in \u001b[0;36mAxes.plot\u001b[0;34m(self, scalex, scaley, data, *args, **kwargs)\u001b[0m\n\u001b[1;32m   1445\u001b[0m \u001b[39m\u001b[39m\u001b[39m\"\"\"\u001b[39;00m\n\u001b[1;32m   1446\u001b[0m \u001b[39mPlot y versus x as lines and/or markers.\u001b[39;00m\n\u001b[1;32m   1447\u001b[0m \n\u001b[0;32m   (...)\u001b[0m\n\u001b[1;32m   1685\u001b[0m \u001b[39m(``'green'``) or hex strings (``'#008000'``).\u001b[39;00m\n\u001b[1;32m   1686\u001b[0m \u001b[39m\"\"\"\u001b[39;00m\n\u001b[1;32m   1687\u001b[0m kwargs \u001b[39m=\u001b[39m cbook\u001b[39m.\u001b[39mnormalize_kwargs(kwargs, mlines\u001b[39m.\u001b[39mLine2D)\n\u001b[0;32m-> 1688\u001b[0m lines \u001b[39m=\u001b[39m [\u001b[39m*\u001b[39m\u001b[39mself\u001b[39m\u001b[39m.\u001b[39m_get_lines(\u001b[39m*\u001b[39margs, data\u001b[39m=\u001b[39mdata, \u001b[39m*\u001b[39m\u001b[39m*\u001b[39mkwargs)]\n\u001b[1;32m   1689\u001b[0m \u001b[39mfor\u001b[39;00m line \u001b[39min\u001b[39;00m lines:\n\u001b[1;32m   1690\u001b[0m     \u001b[39mself\u001b[39m\u001b[39m.\u001b[39madd_line(line)\n",
      "File \u001b[0;32m~/miniconda3/lib/python3.10/site-packages/matplotlib/axes/_base.py:311\u001b[0m, in \u001b[0;36m_process_plot_var_args.__call__\u001b[0;34m(self, data, *args, **kwargs)\u001b[0m\n\u001b[1;32m    309\u001b[0m     this \u001b[39m+\u001b[39m\u001b[39m=\u001b[39m args[\u001b[39m0\u001b[39m],\n\u001b[1;32m    310\u001b[0m     args \u001b[39m=\u001b[39m args[\u001b[39m1\u001b[39m:]\n\u001b[0;32m--> 311\u001b[0m \u001b[39myield from\u001b[39;00m \u001b[39mself\u001b[39;49m\u001b[39m.\u001b[39;49m_plot_args(\n\u001b[1;32m    312\u001b[0m     this, kwargs, ambiguous_fmt_datakey\u001b[39m=\u001b[39;49mambiguous_fmt_datakey)\n",
      "File \u001b[0;32m~/miniconda3/lib/python3.10/site-packages/matplotlib/axes/_base.py:504\u001b[0m, in \u001b[0;36m_process_plot_var_args._plot_args\u001b[0;34m(self, tup, kwargs, return_kwargs, ambiguous_fmt_datakey)\u001b[0m\n\u001b[1;32m    501\u001b[0m     \u001b[39mself\u001b[39m\u001b[39m.\u001b[39maxes\u001b[39m.\u001b[39myaxis\u001b[39m.\u001b[39mupdate_units(y)\n\u001b[1;32m    503\u001b[0m \u001b[39mif\u001b[39;00m x\u001b[39m.\u001b[39mshape[\u001b[39m0\u001b[39m] \u001b[39m!=\u001b[39m y\u001b[39m.\u001b[39mshape[\u001b[39m0\u001b[39m]:\n\u001b[0;32m--> 504\u001b[0m     \u001b[39mraise\u001b[39;00m \u001b[39mValueError\u001b[39;00m(\u001b[39mf\u001b[39m\u001b[39m\"\u001b[39m\u001b[39mx and y must have same first dimension, but \u001b[39m\u001b[39m\"\u001b[39m\n\u001b[1;32m    505\u001b[0m                      \u001b[39mf\u001b[39m\u001b[39m\"\u001b[39m\u001b[39mhave shapes \u001b[39m\u001b[39m{\u001b[39;00mx\u001b[39m.\u001b[39mshape\u001b[39m}\u001b[39;00m\u001b[39m and \u001b[39m\u001b[39m{\u001b[39;00my\u001b[39m.\u001b[39mshape\u001b[39m}\u001b[39;00m\u001b[39m\"\u001b[39m)\n\u001b[1;32m    506\u001b[0m \u001b[39mif\u001b[39;00m x\u001b[39m.\u001b[39mndim \u001b[39m>\u001b[39m \u001b[39m2\u001b[39m \u001b[39mor\u001b[39;00m y\u001b[39m.\u001b[39mndim \u001b[39m>\u001b[39m \u001b[39m2\u001b[39m:\n\u001b[1;32m    507\u001b[0m     \u001b[39mraise\u001b[39;00m \u001b[39mValueError\u001b[39;00m(\u001b[39mf\u001b[39m\u001b[39m\"\u001b[39m\u001b[39mx and y can be no greater than 2D, but have \u001b[39m\u001b[39m\"\u001b[39m\n\u001b[1;32m    508\u001b[0m                      \u001b[39mf\u001b[39m\u001b[39m\"\u001b[39m\u001b[39mshapes \u001b[39m\u001b[39m{\u001b[39;00mx\u001b[39m.\u001b[39mshape\u001b[39m}\u001b[39;00m\u001b[39m and \u001b[39m\u001b[39m{\u001b[39;00my\u001b[39m.\u001b[39mshape\u001b[39m}\u001b[39;00m\u001b[39m\"\u001b[39m)\n",
      "\u001b[0;31mValueError\u001b[0m: x and y must have same first dimension, but have shapes (25,) and (1,)"
     ]
    },
    {
     "data": {
      "image/png": "[encoded data removed]",
      "text/plain": [
       "<Figure size 640x480 with 1 Axes>"
      ]
     },
     "metadata": {},
     "output_type": "display_data"
    }
   ],
   "source": [
    "plt.plot(epochs,accuracy)\n",
    "plt.xlabel(\"epochs\")\n",
    "plt.ylabel(\"accuracy\")\n",
    "plt.show()"
   ]
  },
  {
   "cell_type": "code",
   "execution_count": 25,
   "metadata": {
    "id": "t4LS3rN0Lu0Q"
   },
   "outputs": [
    {
     "ename": "KeyError",
     "evalue": "'val_accuracy'",
     "output_type": "error",
     "traceback": [
      "\u001b[0;31m---------------------------------------------------------------------------\u001b[0m",
      "\u001b[0;31mKeyError\u001b[0m                                  Traceback (most recent call last)",
      "\u001b[1;32m/Users/rohanjai/Developer/Classification-of-Arrhythmia-by-Using-Deep-Learning-with-2-D-ECG-Spectral-Image-Representation/Flask/ECG arrhythmia classification.ipynb Cell 33\u001b[0m line \u001b[0;36m3\n\u001b[1;32m      <a href='vscode-notebook-cell:/Users/rohanjai/Developer/Classification-of-Arrhythmia-by-Using-Deep-Learning-with-2-D-ECG-Spectral-Image-Representation/Flask/ECG%20arrhythmia%20classification.ipynb#X44sZmlsZQ%3D%3D?line=0'>1</a>\u001b[0m losses\u001b[39m=\u001b[39mtr\u001b[39m.\u001b[39mhistory[\u001b[39m'\u001b[39m\u001b[39mloss\u001b[39m\u001b[39m'\u001b[39m]\n\u001b[1;32m      <a href='vscode-notebook-cell:/Users/rohanjai/Developer/Classification-of-Arrhythmia-by-Using-Deep-Learning-with-2-D-ECG-Spectral-Image-Representation/Flask/ECG%20arrhythmia%20classification.ipynb#X44sZmlsZQ%3D%3D?line=1'>2</a>\u001b[0m accuracy\u001b[39m=\u001b[39mtr\u001b[39m.\u001b[39mhistory[\u001b[39m'\u001b[39m\u001b[39maccuracy\u001b[39m\u001b[39m'\u001b[39m]\n\u001b[0;32m----> <a href='vscode-notebook-cell:/Users/rohanjai/Developer/Classification-of-Arrhythmia-by-Using-Deep-Learning-with-2-D-ECG-Spectral-Image-Representation/Flask/ECG%20arrhythmia%20classification.ipynb#X44sZmlsZQ%3D%3D?line=2'>3</a>\u001b[0m val_accuarcy\u001b[39m=\u001b[39mtr\u001b[39m.\u001b[39;49mhistory[\u001b[39m'\u001b[39;49m\u001b[39mval_accuracy\u001b[39;49m\u001b[39m'\u001b[39;49m]\n\u001b[1;32m      <a href='vscode-notebook-cell:/Users/rohanjai/Developer/Classification-of-Arrhythmia-by-Using-Deep-Learning-with-2-D-ECG-Spectral-Image-Representation/Flask/ECG%20arrhythmia%20classification.ipynb#X44sZmlsZQ%3D%3D?line=3'>4</a>\u001b[0m epochs\u001b[39m=\u001b[39m\u001b[39mlist\u001b[39m(\u001b[39mrange\u001b[39m(\u001b[39m1\u001b[39m,\u001b[39m26\u001b[39m))\n",
      "\u001b[0;31mKeyError\u001b[0m: 'val_accuracy'"
     ]
    }
   ],
   "source": [
    "losses=tr.history['loss']\n",
    "accuracy=tr.history['accuracy']\n",
    "val_accuarcy=tr.history['val_accuracy']\n",
    "epochs=list(range(1,26))\n"
   ]
  },
  {
   "cell_type": "code",
   "execution_count": 26,
   "metadata": {
    "colab": {
     "base_uri": "https://localhost:8080/",
     "height": 449
    },
    "executionInfo": {
     "elapsed": 731,
     "status": "ok",
     "timestamp": 1690727259672,
     "user": {
      "displayName": "597 Dileep",
      "userId": "02511124501010041631"
     },
     "user_tz": -330
    },
    "id": "dA7lueRZLF4O",
    "outputId": "2267dbcc-be0b-4cf8-a021-5598df896468"
   },
   "outputs": [
    {
     "ename": "NameError",
     "evalue": "name 'val_accuarcy' is not defined",
     "output_type": "error",
     "traceback": [
      "\u001b[0;31m---------------------------------------------------------------------------\u001b[0m",
      "\u001b[0;31mNameError\u001b[0m                                 Traceback (most recent call last)",
      "\u001b[1;32m/Users/rohanjai/Developer/Classification-of-Arrhythmia-by-Using-Deep-Learning-with-2-D-ECG-Spectral-Image-Representation/Flask/ECG arrhythmia classification.ipynb Cell 34\u001b[0m line \u001b[0;36m1\n\u001b[0;32m----> <a href='vscode-notebook-cell:/Users/rohanjai/Developer/Classification-of-Arrhythmia-by-Using-Deep-Learning-with-2-D-ECG-Spectral-Image-Representation/Flask/ECG%20arrhythmia%20classification.ipynb#X45sZmlsZQ%3D%3D?line=0'>1</a>\u001b[0m plt\u001b[39m.\u001b[39mplot(epochs,val_accuarcy)\n\u001b[1;32m      <a href='vscode-notebook-cell:/Users/rohanjai/Developer/Classification-of-Arrhythmia-by-Using-Deep-Learning-with-2-D-ECG-Spectral-Image-Representation/Flask/ECG%20arrhythmia%20classification.ipynb#X45sZmlsZQ%3D%3D?line=1'>2</a>\u001b[0m plt\u001b[39m.\u001b[39mxlabel(\u001b[39m\"\u001b[39m\u001b[39mepochs\u001b[39m\u001b[39m\"\u001b[39m)\n\u001b[1;32m      <a href='vscode-notebook-cell:/Users/rohanjai/Developer/Classification-of-Arrhythmia-by-Using-Deep-Learning-with-2-D-ECG-Spectral-Image-Representation/Flask/ECG%20arrhythmia%20classification.ipynb#X45sZmlsZQ%3D%3D?line=2'>3</a>\u001b[0m plt\u001b[39m.\u001b[39mylabel(\u001b[39m\"\u001b[39m\u001b[39maccuracy\u001b[39m\u001b[39m\"\u001b[39m)\n",
      "\u001b[0;31mNameError\u001b[0m: name 'val_accuarcy' is not defined"
     ]
    }
   ],
   "source": [
    "plt.plot(epochs,val_accuarcy)\n",
    "plt.xlabel(\"epochs\")\n",
    "plt.ylabel(\"accuracy\")\n",
    "plt.show()"
   ]
  },
  {
   "cell_type": "code",
   "execution_count": null,
   "metadata": {},
   "outputs": [],
   "source": []
  }
 ],
 "metadata": {
  "colab": {
   "authorship_tag": "ABX9TyOUlf0c/TNO/BkV79GmjPvm",
   "mount_file_id": "1otYOJsX022Oh18y00WoAhvr81iUGsNGh",
   "provenance": []
  },
  "kernelspec": {
   "display_name": "Python 3 (ipykernel)",
   "language": "python",
   "name": "python3"
  },
  "language_info": {
   "codemirror_mode": {
    "name": "ipython",
    "version": 3
   },
   "file_extension": ".py",
   "mimetype": "text/x-python",
   "name": "python",
   "nbconvert_exporter": "python",
   "pygments_lexer": "ipython3",
   "version": "3.10.9"
  }
 },
 "nbformat": 4,
 "nbformat_minor": 1
}
