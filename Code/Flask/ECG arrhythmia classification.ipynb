{
 "cells": [
  {
   "cell_type": "code",
   "execution_count": 1,
   "metadata": {
    "id": "vxGMudFEWtEg"
   },
   "outputs": [],
   "source": [
    "#import the nueral network libraries\n",
    "from tensorflow.keras.models import Sequential\n",
    "from tensorflow.keras.layers import Dense\n"
   ]
  },
  {
   "cell_type": "code",
   "execution_count": 2,
   "metadata": {
    "id": "Tfq6ZU6aa_cx"
   },
   "outputs": [],
   "source": [
    "#import the cnn layers\n",
    "from tensorflow.keras.layers import Convolution2D\n",
    "from tensorflow.keras.layers import MaxPooling2D\n",
    "from tensorflow.keras.layers import Flatten"
   ]
  },
  {
   "cell_type": "markdown",
   "metadata": {
    "id": "WoPunGgBfgt2"
   },
   "source": [
    "#image preprocessing (or) data Augmentation"
   ]
  },
  {
   "cell_type": "code",
   "execution_count": 3,
   "metadata": {
    "id": "IS8A9Idnd7od"
   },
   "outputs": [],
   "source": [
    "from tensorflow.keras.preprocessing.image import ImageDataGenerator\n"
   ]
  },
  {
   "cell_type": "code",
   "execution_count": 4,
   "metadata": {
    "id": "HDqx-UA2igFy"
   },
   "outputs": [],
   "source": [
    "train_datagen=ImageDataGenerator(rescale=1./255,shear_range=0.2,zoom_range=0.2,horizontal_flip=True)"
   ]
  },
  {
   "cell_type": "code",
   "execution_count": 5,
   "metadata": {
    "id": "g6iwOIYwjc0T"
   },
   "outputs": [],
   "source": [
    "test_datagen=ImageDataGenerator(rescale=1./255)"
   ]
  },
  {
   "cell_type": "code",
   "execution_count": 6,
   "metadata": {
    "colab": {
     "base_uri": "https://localhost:8080/"
    },
    "executionInfo": {
     "elapsed": 777,
     "status": "ok",
     "timestamp": 1690716752719,
     "user": {
      "displayName": "597 Dileep",
      "userId": "02511124501010041631"
     },
     "user_tz": -330
    },
    "id": "UnLhcEdSjrOh",
    "outputId": "a93bcbd7-ab5a-4606-b3aa-af51bdc90161"
   },
   "outputs": [
    {
     "name": "stdout",
     "output_type": "stream",
     "text": [
      "Found 15341 images belonging to 6 classes.\n"
     ]
    }
   ],
   "source": [
    "x_train =train_datagen.flow_from_directory(\"C:/Users/haris/OneDrive/Desktop/classification-of-Arrhythmia/Code/ECG-Dataset/Dataset/train\",target_size=(64,64),batch_size=32,class_mode=\"categorical\")\n"
   ]
  },
  {
   "cell_type": "code",
   "execution_count": 7,
   "metadata": {
    "colab": {
     "base_uri": "https://localhost:8080/"
    },
    "executionInfo": {
     "elapsed": 510,
     "status": "ok",
     "timestamp": 1690719806469,
     "user": {
      "displayName": "597 Dileep",
      "userId": "02511124501010041631"
     },
     "user_tz": -330
    },
    "id": "mMGBORQ3utXi",
    "outputId": "691a749c-d00f-40c5-8327-c3962c1e1222"
   },
   "outputs": [
    {
     "name": "stdout",
     "output_type": "stream",
     "text": [
      "Found 6825 images belonging to 6 classes.\n"
     ]
    }
   ],
   "source": [
    "x_test = test_datagen.flow_from_directory(\"C:/Users/haris/OneDrive/Desktop/classification-of-Arrhythmia/Code/ECG-Dataset/Dataset/test\",target_size=(64,64),batch_size=32,class_mode=\"categorical\")"
   ]
  },
  {
   "cell_type": "code",
   "execution_count": 8,
   "metadata": {
    "colab": {
     "base_uri": "https://localhost:8080/"
    },
    "executionInfo": {
     "elapsed": 3,
     "status": "ok",
     "timestamp": 1690716783624,
     "user": {
      "displayName": "597 Dileep",
      "userId": "02511124501010041631"
     },
     "user_tz": -330
    },
    "id": "1rkFHifxkaMQ",
    "outputId": "3e57785b-ca85-4539-afbf-39d6844d5870"
   },
   "outputs": [
    {
     "data": {
      "text/plain": [
       "{'Left Bundle Branch Block': 0,\n",
       " 'Normal': 1,\n",
       " 'Premature Atrial Contraction': 2,\n",
       " 'Premature Ventricular Contractions': 3,\n",
       " 'Right Bundle Branch Block': 4,\n",
       " 'Ventricular Fibrillation': 5}"
      ]
     },
     "execution_count": 8,
     "metadata": {},
     "output_type": "execute_result"
    }
   ],
   "source": [
    "x_train.class_indices"
   ]
  },
  {
   "cell_type": "code",
   "execution_count": 9,
   "metadata": {
    "id": "k8f2lKudksA1"
   },
   "outputs": [],
   "source": [
    "#initialize the model\n",
    "model=Sequential()"
   ]
  },
  {
   "cell_type": "code",
   "execution_count": 10,
   "metadata": {
    "id": "f8FhtNQik0-c"
   },
   "outputs": [],
   "source": [
    "#convolutional model\n",
    "model.add(Convolution2D(32,(3,3),input_shape=(64,64,3),activation=\"relu\"))\n",
    "#here 32 indiates no.of feature detectors and(3,3) is feature detector size"
   ]
  },
  {
   "cell_type": "code",
   "execution_count": 11,
   "metadata": {
    "id": "CMLH2JySlbWU"
   },
   "outputs": [],
   "source": [
    "#pooling layer\n",
    "model.add(MaxPooling2D(pool_size=(2,2)))"
   ]
  },
  {
   "cell_type": "code",
   "execution_count": 12,
   "metadata": {
    "id": "sLr8KkPZmOFE"
   },
   "outputs": [],
   "source": [
    "#flatten layer\n",
    "model.add(Flatten())"
   ]
  },
  {
   "cell_type": "markdown",
   "metadata": {
    "id": "MNddOwIrmZap"
   },
   "source": [
    "#hidden layers"
   ]
  },
  {
   "cell_type": "code",
   "execution_count": 13,
   "metadata": {
    "id": "Y3uPzKkimV2L"
   },
   "outputs": [],
   "source": [
    "model.add(Dense(units=200,activation=\"relu\",kernel_initializer=\"random_uniform\"))"
   ]
  },
  {
   "cell_type": "code",
   "execution_count": 14,
   "metadata": {
    "id": "2DUdjv9pmq61"
   },
   "outputs": [],
   "source": [
    "model.add(Dense(units=300,activation=\"relu\",kernel_initializer=\"random_uniform\"))"
   ]
  },
  {
   "cell_type": "markdown",
   "metadata": {
    "id": "FxvCgTKKmyKd"
   },
   "source": [
    "#output layer\n"
   ]
  },
  {
   "cell_type": "code",
   "execution_count": 15,
   "metadata": {
    "id": "SOFB6mohmvrC"
   },
   "outputs": [],
   "source": [
    "model.add(Dense(units=6,activation=\"softmax\",kernel_initializer=\"random_uniform\"))"
   ]
  },
  {
   "cell_type": "markdown",
   "metadata": {
    "id": "mnomqk5-nNBM"
   },
   "source": [
    "#compile model"
   ]
  },
  {
   "cell_type": "code",
   "execution_count": 16,
   "metadata": {
    "id": "_H6pfD42nKU0"
   },
   "outputs": [],
   "source": [
    "model.compile(optimizer=\"adam\",loss=\"categorical_crossentropy\",metrics=[\"accuracy\"])"
   ]
  },
  {
   "cell_type": "markdown",
   "metadata": {
    "id": "fMEEPDOhsjHc"
   },
   "source": [
    "#train your  model"
   ]
  },
  {
   "cell_type": "code",
   "execution_count": 17,
   "metadata": {
    "colab": {
     "base_uri": "https://localhost:8080/"
    },
    "executionInfo": {
     "elapsed": 1833644,
     "status": "ok",
     "timestamp": 1690724281220,
     "user": {
      "displayName": "597 Dileep",
      "userId": "02511124501010041631"
     },
     "user_tz": -330
    },
    "id": "ykw_NqGRry3B",
    "outputId": "61ea98a6-5730-4257-fbd3-88f30cfd399e"
   },
   "outputs": [
    {
     "name": "stderr",
     "output_type": "stream",
     "text": [
      "C:\\Users\\haris\\AppData\\Local\\Temp\\ipykernel_14968\\1370298909.py:1: UserWarning: `Model.fit_generator` is deprecated and will be removed in a future version. Please use `Model.fit`, which supports generators.\n",
      "  tr=model.fit_generator(x_train,steps_per_epoch=480,epochs=25,validation_data=x_test,validation_steps=10)\n"
     ]
    },
    {
     "name": "stdout",
     "output_type": "stream",
     "text": [
      "Epoch 1/25\n",
      "480/480 [==============================] - 87s 178ms/step - loss: 0.9403 - accuracy: 0.6650 - val_loss: 0.6864 - val_accuracy: 0.7625\n",
      "Epoch 2/25\n",
      "480/480 [==============================] - 87s 181ms/step - loss: 0.3387 - accuracy: 0.8931 - val_loss: 0.4659 - val_accuracy: 0.8594\n",
      "Epoch 3/25\n",
      "480/480 [==============================] - 85s 177ms/step - loss: 0.2356 - accuracy: 0.9259 - val_loss: 0.6305 - val_accuracy: 0.8156\n",
      "Epoch 4/25\n",
      "480/480 [==============================] - 90s 187ms/step - loss: 0.1702 - accuracy: 0.9482 - val_loss: 0.4248 - val_accuracy: 0.8719\n",
      "Epoch 5/25\n",
      "480/480 [==============================] - 85s 177ms/step - loss: 0.1397 - accuracy: 0.9572 - val_loss: 0.6356 - val_accuracy: 0.8344\n",
      "Epoch 6/25\n",
      "480/480 [==============================] - 86s 180ms/step - loss: 0.1056 - accuracy: 0.9679 - val_loss: 0.6817 - val_accuracy: 0.8687\n",
      "Epoch 7/25\n",
      "480/480 [==============================] - 313s 653ms/step - loss: 0.0842 - accuracy: 0.9741 - val_loss: 0.9815 - val_accuracy: 0.8406\n",
      "Epoch 8/25\n",
      "480/480 [==============================] - 265s 552ms/step - loss: 0.0714 - accuracy: 0.9760 - val_loss: 0.9907 - val_accuracy: 0.8438\n",
      "Epoch 9/25\n",
      "480/480 [==============================] - 95s 198ms/step - loss: 0.0735 - accuracy: 0.9776 - val_loss: 0.5919 - val_accuracy: 0.8594\n",
      "Epoch 10/25\n",
      "480/480 [==============================] - 92s 191ms/step - loss: 0.0597 - accuracy: 0.9808 - val_loss: 0.6131 - val_accuracy: 0.8562\n",
      "Epoch 11/25\n",
      "480/480 [==============================] - 92s 192ms/step - loss: 0.0564 - accuracy: 0.9825 - val_loss: 0.9602 - val_accuracy: 0.8344\n",
      "Epoch 12/25\n",
      "480/480 [==============================] - 95s 198ms/step - loss: 0.0526 - accuracy: 0.9836 - val_loss: 0.8597 - val_accuracy: 0.8625\n",
      "Epoch 13/25\n",
      "480/480 [==============================] - 90s 187ms/step - loss: 0.0477 - accuracy: 0.9847 - val_loss: 0.7316 - val_accuracy: 0.8438\n",
      "Epoch 14/25\n",
      "480/480 [==============================] - 101s 211ms/step - loss: 0.0438 - accuracy: 0.9858 - val_loss: 0.6611 - val_accuracy: 0.8844\n",
      "Epoch 15/25\n",
      "480/480 [==============================] - 92s 191ms/step - loss: 0.0361 - accuracy: 0.9891 - val_loss: 0.6194 - val_accuracy: 0.8813\n",
      "Epoch 16/25\n",
      "480/480 [==============================] - 89s 186ms/step - loss: 0.0752 - accuracy: 0.9759 - val_loss: 1.1221 - val_accuracy: 0.8531\n",
      "Epoch 17/25\n",
      "480/480 [==============================] - 90s 187ms/step - loss: 0.0372 - accuracy: 0.9879 - val_loss: 0.5852 - val_accuracy: 0.8969\n",
      "Epoch 18/25\n",
      "480/480 [==============================] - 90s 188ms/step - loss: 0.0307 - accuracy: 0.9901 - val_loss: 0.7974 - val_accuracy: 0.8906\n",
      "Epoch 19/25\n",
      "480/480 [==============================] - 90s 188ms/step - loss: 0.0278 - accuracy: 0.9906 - val_loss: 0.8950 - val_accuracy: 0.8469\n",
      "Epoch 20/25\n",
      "480/480 [==============================] - 95s 198ms/step - loss: 0.0341 - accuracy: 0.9892 - val_loss: 1.0390 - val_accuracy: 0.8438\n",
      "Epoch 21/25\n",
      "480/480 [==============================] - 87s 181ms/step - loss: 0.0383 - accuracy: 0.9874 - val_loss: 1.0665 - val_accuracy: 0.8406\n",
      "Epoch 22/25\n",
      "480/480 [==============================] - 91s 190ms/step - loss: 0.0344 - accuracy: 0.9877 - val_loss: 1.0225 - val_accuracy: 0.8562\n",
      "Epoch 23/25\n",
      "480/480 [==============================] - 91s 190ms/step - loss: 0.0317 - accuracy: 0.9896 - val_loss: 1.1048 - val_accuracy: 0.8656\n",
      "Epoch 24/25\n",
      "480/480 [==============================] - 85s 177ms/step - loss: 0.0263 - accuracy: 0.9915 - val_loss: 1.2473 - val_accuracy: 0.8562\n",
      "Epoch 25/25\n",
      "480/480 [==============================] - 86s 179ms/step - loss: 0.0320 - accuracy: 0.9888 - val_loss: 1.1456 - val_accuracy: 0.8219\n"
     ]
    }
   ],
   "source": [
    "tr=model.fit_generator(x_train,steps_per_epoch=480,epochs=25,validation_data=x_test,validation_steps=10)\n",
    "#steps_per_epoch =>total trainging images/batch size\n",
    "#validation_steps=>total testing images/batch size"
   ]
  },
  {
   "cell_type": "code",
   "execution_count": 18,
   "metadata": {
    "colab": {
     "base_uri": "https://localhost:8080/"
    },
    "executionInfo": {
     "elapsed": 620,
     "status": "ok",
     "timestamp": 1690724384638,
     "user": {
      "displayName": "597 Dileep",
      "userId": "02511124501010041631"
     },
     "user_tz": -330
    },
    "id": "4ja0U3ERxvFY",
    "outputId": "05b5e401-7697-498a-a3f3-69192781aaf0"
   },
   "outputs": [
    {
     "data": {
      "text/plain": [
       "{'loss': [0.940251886844635,\n",
       "  0.3386785089969635,\n",
       "  0.2356240302324295,\n",
       "  0.1701829731464386,\n",
       "  0.13972952961921692,\n",
       "  0.1056017056107521,\n",
       "  0.08421590179204941,\n",
       "  0.07142758369445801,\n",
       "  0.07348457723855972,\n",
       "  0.05966091528534889,\n",
       "  0.05643954128026962,\n",
       "  0.052617598325014114,\n",
       "  0.0476662777364254,\n",
       "  0.043814871460199356,\n",
       "  0.03605734556913376,\n",
       "  0.07519923895597458,\n",
       "  0.037214864045381546,\n",
       "  0.030696231871843338,\n",
       "  0.02784036099910736,\n",
       "  0.03408822789788246,\n",
       "  0.03833264485001564,\n",
       "  0.03439980000257492,\n",
       "  0.031706344336271286,\n",
       "  0.026294130831956863,\n",
       "  0.0320059210062027],\n",
       " 'accuracy': [0.6649501323699951,\n",
       "  0.893096923828125,\n",
       "  0.9258849024772644,\n",
       "  0.9481781125068665,\n",
       "  0.9572387933731079,\n",
       "  0.9679290652275085,\n",
       "  0.974121630191803,\n",
       "  0.9760119915008545,\n",
       "  0.9776416420936584,\n",
       "  0.980770468711853,\n",
       "  0.9825304746627808,\n",
       "  0.9835734367370605,\n",
       "  0.9847467541694641,\n",
       "  0.9857897162437439,\n",
       "  0.9891141653060913,\n",
       "  0.9759467840194702,\n",
       "  0.987940788269043,\n",
       "  0.9900919198989868,\n",
       "  0.9906134009361267,\n",
       "  0.9891793131828308,\n",
       "  0.9874193072319031,\n",
       "  0.9876800775527954,\n",
       "  0.9896356463432312,\n",
       "  0.9915259480476379,\n",
       "  0.9887881875038147],\n",
       " 'val_loss': [0.6863967776298523,\n",
       "  0.46592217683792114,\n",
       "  0.6305422782897949,\n",
       "  0.42478522658348083,\n",
       "  0.6355851292610168,\n",
       "  0.6816785335540771,\n",
       "  0.9814903140068054,\n",
       "  0.9907353520393372,\n",
       "  0.5918650031089783,\n",
       "  0.6130824685096741,\n",
       "  0.9602105021476746,\n",
       "  0.859650731086731,\n",
       "  0.7316499352455139,\n",
       "  0.661130964756012,\n",
       "  0.6194221377372742,\n",
       "  1.1221423149108887,\n",
       "  0.5851922631263733,\n",
       "  0.7973930239677429,\n",
       "  0.8949877023696899,\n",
       "  1.0390081405639648,\n",
       "  1.0665258169174194,\n",
       "  1.0224601030349731,\n",
       "  1.1047688722610474,\n",
       "  1.247253179550171,\n",
       "  1.1456269025802612],\n",
       " 'val_accuracy': [0.762499988079071,\n",
       "  0.859375,\n",
       "  0.815625011920929,\n",
       "  0.871874988079071,\n",
       "  0.8343750238418579,\n",
       "  0.8687499761581421,\n",
       "  0.840624988079071,\n",
       "  0.84375,\n",
       "  0.859375,\n",
       "  0.856249988079071,\n",
       "  0.8343750238418579,\n",
       "  0.862500011920929,\n",
       "  0.84375,\n",
       "  0.8843749761581421,\n",
       "  0.8812500238418579,\n",
       "  0.8531249761581421,\n",
       "  0.8968750238418579,\n",
       "  0.890625,\n",
       "  0.846875011920929,\n",
       "  0.84375,\n",
       "  0.840624988079071,\n",
       "  0.856249988079071,\n",
       "  0.8656250238418579,\n",
       "  0.856249988079071,\n",
       "  0.8218749761581421]}"
      ]
     },
     "execution_count": 18,
     "metadata": {},
     "output_type": "execute_result"
    }
   ],
   "source": [
    "tr.history"
   ]
  },
  {
   "cell_type": "markdown",
   "metadata": {
    "id": "gcu6XU_qxav1"
   },
   "source": [
    "#to save the best accuracy got in the epoch we willn use this callback and checkpoint"
   ]
  },
  {
   "cell_type": "code",
   "execution_count": 19,
   "metadata": {
    "id": "_J8COiRZBuo8"
   },
   "outputs": [
    {
     "name": "stdout",
     "output_type": "stream",
     "text": [
      "WARNING:tensorflow:ModelCheckpoint mode Max is unknown, fallback to auto mode.\n"
     ]
    }
   ],
   "source": [
    "from tensorflow.keras.callbacks import ModelCheckpoint\n",
    "checkpoint = ModelCheckpoint(\"best_model_{epoch:02d}.h5\",monitor=\"val_accuracy\",save_best_only=True,mode=\"Max\")\n",
    "lr = model.fit_generator(x_train,steps_per_epoch=480,callbacks=[checkpoint],validation_steps=10)"
   ]
  },
  {
   "cell_type": "markdown",
   "metadata": {
    "id": "ezs_KTPmoc85"
   },
   "source": [
    "#saving the model"
   ]
  },
  {
   "cell_type": "code",
   "execution_count": 20,
   "metadata": {
    "colab": {
     "base_uri": "https://localhost:8080/"
    },
    "executionInfo": {
     "elapsed": 688,
     "status": "ok",
     "timestamp": 1690725871270,
     "user": {
      "displayName": "597 Dileep",
      "userId": "02511124501010041631"
     },
     "user_tz": -330
    },
    "id": "okLOLF3RCplu",
    "outputId": "6cc5868b-078a-4d3f-f9f0-3a561468b67d"
   },
   "outputs": [
    {
     "name": "stderr",
     "output_type": "stream",
     "text": [
      "C:\\Users\\haris\\anaconda3\\Lib\\site-packages\\keras\\src\\engine\\training.py:3079: UserWarning: You are saving your model as an HDF5 file via `model.save()`. This file format is considered legacy. We recommend using instead the native Keras format, e.g. `model.save('my_model.keras')`.\n",
      "  saving_api.save_model(\n"
     ]
    }
   ],
   "source": [
    "#for storing temporary\n",
    "model.save('ECG.h5')"
   ]
  },
  {
   "cell_type": "code",
   "execution_count": 21,
   "metadata": {
    "colab": {
     "base_uri": "https://localhost:8080/"
    },
    "executionInfo": {
     "elapsed": 17458,
     "status": "ok",
     "timestamp": 1690725979887,
     "user": {
      "displayName": "597 Dileep",
      "userId": "02511124501010041631"
     },
     "user_tz": -330
    },
    "id": "hS5yAJ7iHWj4",
    "outputId": "c317de5a-a008-4bb2-c925-311c520546e8"
   },
   "outputs": [],
   "source": [
    "#for storing permanent in drive\n",
    "model.save(\"C:/Users/haris/OneDrive/Desktop/classification-of-Arrhythmia/Code/ECG-Dataset/ECG.h5\")"
   ]
  },
  {
   "cell_type": "code",
   "execution_count": 22,
   "metadata": {
    "id": "Fk0RzgBtKdNj"
   },
   "outputs": [],
   "source": [
    "losses=tr.history['loss']\n",
    "accuracy=tr.history['accuracy']\n",
    "epochs=list(range(1,26))\n"
   ]
  },
  {
   "cell_type": "code",
   "execution_count": 23,
   "metadata": {},
   "outputs": [
    {
     "data": {
      "text/plain": [
       "0.1056017056107521"
      ]
     },
     "execution_count": 23,
     "metadata": {},
     "output_type": "execute_result"
    }
   ],
   "source": [
    "tr.history['loss'][5]"
   ]
  },
  {
   "cell_type": "code",
   "execution_count": 28,
   "metadata": {
    "colab": {
     "base_uri": "https://localhost:8080/",
     "height": 449
    },
    "executionInfo": {
     "elapsed": 739,
     "status": "ok",
     "timestamp": 1690726817612,
     "user": {
      "displayName": "597 Dileep",
      "userId": "02511124501010041631"
     },
     "user_tz": -330
    },
    "id": "TCjB758ZKu4W",
    "outputId": "759f8364-dae4-4f6e-b4d8-cae381717a47"
   },
   "outputs": [
    {
     "data": {
      "image/png": "[encoded data removed]",
      "text/plain": [
       "<Figure size 640x480 with 1 Axes>"
      ]
     },
     "metadata": {},
     "output_type": "display_data"
    }
   ],
   "source": [
    "import matplotlib.pyplot as plt\n",
    "plt.plot(epochs,losses)\n",
    "plt.xlabel(\"epochs\")\n",
    "plt.ylabel(\"loss\")\n",
    "plt.show()"
   ]
  },
  {
   "cell_type": "code",
   "execution_count": 29,
   "metadata": {
    "colab": {
     "base_uri": "https://localhost:8080/",
     "height": 449
    },
    "executionInfo": {
     "elapsed": 593,
     "status": "ok",
     "timestamp": 1690726851811,
     "user": {
      "displayName": "597 Dileep",
      "userId": "02511124501010041631"
     },
     "user_tz": -330
    },
    "id": "q0S29BBQK9ln",
    "outputId": "b7fb6f71-056c-4189-f461-c299149d8133"
   },
   "outputs": [
    {
     "data": {
      "image/png": "[encoded data removed]",
      "text/plain": [
       "<Figure size 640x480 with 1 Axes>"
      ]
     },
     "metadata": {},
     "output_type": "display_data"
    }
   ],
   "source": [
    "plt.plot(epochs,accuracy)\n",
    "plt.xlabel(\"epochs\")\n",
    "plt.ylabel(\"accuracy\")\n",
    "plt.show()"
   ]
  },
  {
   "cell_type": "code",
   "execution_count": 26,
   "metadata": {
    "id": "t4LS3rN0Lu0Q"
   },
   "outputs": [],
   "source": [
    "losses=tr.history['loss']\n",
    "accuracy=tr.history['accuracy']\n",
    "val_accuarcy=tr.history['val_accuracy']\n",
    "epochs=list(range(1,26))\n"
   ]
  },
  {
   "cell_type": "code",
   "execution_count": 27,
   "metadata": {
    "colab": {
     "base_uri": "https://localhost:8080/",
     "height": 449
    },
    "executionInfo": {
     "elapsed": 731,
     "status": "ok",
     "timestamp": 1690727259672,
     "user": {
      "displayName": "597 Dileep",
      "userId": "02511124501010041631"
     },
     "user_tz": -330
    },
    "id": "dA7lueRZLF4O",
    "outputId": "2267dbcc-be0b-4cf8-a021-5598df896468"
   },
   "outputs": [
    {
     "data": {
      "image/png": "[encoded data removed]",
      "text/plain": [
       "<Figure size 640x480 with 1 Axes>"
      ]
     },
     "metadata": {},
     "output_type": "display_data"
    }
   ],
   "source": [
    "plt.plot(epochs,val_accuarcy)\n",
    "plt.xlabel(\"epochs\")\n",
    "plt.ylabel(\"accuracy\")\n",
    "plt.show()"
   ]
  }
 ],
 "metadata": {
  "colab": {
   "authorship_tag": "ABX9TyOUlf0c/TNO/BkV79GmjPvm",
   "mount_file_id": "1otYOJsX022Oh18y00WoAhvr81iUGsNGh",
   "provenance": []
  },
  "kernelspec": {
   "display_name": "Python 3 (ipykernel)",
   "language": "python",
   "name": "python3"
  },
  "language_info": {
   "codemirror_mode": {
    "name": "ipython",
    "version": 3
   },
   "file_extension": ".py",
   "mimetype": "text/x-python",
   "name": "python",
   "nbconvert_exporter": "python",
   "pygments_lexer": "ipython3",
   "version": "3.11.5"
  }
 },
 "nbformat": 4,
 "nbformat_minor": 1
}
